{
  "nbformat": 4,
  "nbformat_minor": 0,
  "metadata": {
    "colab": {
      "provenance": [],
      "authorship_tag": "ABX9TyNfii56VcfyqXo7fSuYPnj8",
      "include_colab_link": true
    },
    "kernelspec": {
      "name": "python3",
      "display_name": "Python 3"
    },
    "language_info": {
      "name": "python"
    }
  },
  "cells": [
    {
      "cell_type": "markdown",
      "metadata": {
        "id": "view-in-github",
        "colab_type": "text"
      },
      "source": [
        "<a href=\"https://colab.research.google.com/github/andresc452/DS_M2/blob/main/main_analysis.ipynb\" target=\"_parent\"><img src=\"https://colab.research.google.com/assets/colab-badge.svg\" alt=\"Open In Colab\"/></a>"
      ]
    },
    {
      "cell_type": "markdown",
      "source": [
        "\n",
        "# Tarea 2: DS_M2 - Análisis del dataset de café\n",
        "\n",
        "Autores: Andrés Carrillo, [Nombre]\n",
        "\n",
        "Fecha: 27/10/25\n"
      ],
      "metadata": {
        "id": "GVLfdPD8w4QO"
      }
    },
    {
      "cell_type": "code",
      "execution_count": null,
      "metadata": {
        "id": "4ba_o5Ocwwtc"
      },
      "outputs": [],
      "source": []
    }
  ]
}